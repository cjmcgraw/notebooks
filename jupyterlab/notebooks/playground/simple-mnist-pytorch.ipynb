{
 "cells": [
  {
   "cell_type": "code",
   "execution_count": 7,
   "id": "d30d3558-0474-40d2-9452-c9fa5ca68bfb",
   "metadata": {},
   "outputs": [],
   "source": [
    "import torch\n",
    "from torch import nn\n",
    "from torch.utils.data import DataLoader\n",
    "import torch.nn.functional as F\n",
    "import torch.optim as optim\n",
    "import torchvision\n",
    "import pathlib\n",
    "from tqdm.notebook import tqdm\n",
    "torch.manual_seed(1)\n",
    "data_loc = pathlib.Path('/home/jovyan/data/mnist')"
   ]
  },
  {
   "cell_type": "code",
   "execution_count": 8,
   "id": "78d71542-1218-4b4c-a0d1-fd8988873055",
   "metadata": {},
   "outputs": [],
   "source": [
    "def load(kind):\n",
    "    return torch.utils.data.DataLoader(\n",
    "        torchvision.datasets.MNIST(\n",
    "            root=str(data_loc / kind),\n",
    "            train=kind == 'train',\n",
    "            download=True,\n",
    "            transform=torchvision.transforms.ToTensor(),\n",
    "        ),\n",
    "        shuffle=kind=='train',\n",
    "        batch_size=16,\n",
    "    )\n",
    "\n",
    "train = load('train')\n",
    "test = load('test')"
   ]
  },
  {
   "cell_type": "code",
   "execution_count": 70,
   "id": "d4e4eb0e-d094-40c1-95f4-d24a07e244fe",
   "metadata": {},
   "outputs": [],
   "source": [
    "class NeuralNetwork(nn.Module):\n",
    "\n",
    "    def __init__(self):\n",
    "        super(NeuralNetwork, self).__init__()\n",
    "        self.net = nn.Sequential(\n",
    "            nn.Flatten(),\n",
    "            nn.Linear(28 * 28, 256),\n",
    "            nn.ReLU(),\n",
    "            nn.Dropout(0.3),\n",
    "            nn.Linear(256, 128),\n",
    "            nn.ReLU(),\n",
    "            nn.Dropout(0.3),\n",
    "            nn.Linear(128, 64),\n",
    "            nn.ReLU(),\n",
    "            nn.Dropout(0.3),\n",
    "            nn.Linear(64, 10),\n",
    "        )\n",
    "\n",
    "    def forward(self, x):\n",
    "        x = self.net(x)\n",
    "        return F.log_softmax(x, dim=1)"
   ]
  },
  {
   "cell_type": "code",
   "execution_count": 71,
   "id": "3343e402-f344-46f0-9fb6-08a37d9847f3",
   "metadata": {},
   "outputs": [
    {
     "data": {
      "application/vnd.jupyter.widget-view+json": {
       "model_id": "65477c8d60b54f839917d36d69b4df03",
       "version_major": 2,
       "version_minor": 0
      },
      "text/plain": [
       "  0%|          | 0/3750 [00:00<?, ?it/s]"
      ]
     },
     "metadata": {},
     "output_type": "display_data"
    },
    {
     "data": {
      "application/vnd.jupyter.widget-view+json": {
       "model_id": "2414cfa444464eaa84bc27ec62e0fa53",
       "version_major": 2,
       "version_minor": 0
      },
      "text/plain": [
       "  0%|          | 0/625 [00:00<?, ?it/s]"
      ]
     },
     "metadata": {},
     "output_type": "display_data"
    },
    {
     "data": {
      "application/vnd.jupyter.widget-view+json": {
       "model_id": "3a6309b8020d495ba93e642ea28d340c",
       "version_major": 2,
       "version_minor": 0
      },
      "text/plain": [
       "  0%|          | 0/3750 [00:00<?, ?it/s]"
      ]
     },
     "metadata": {},
     "output_type": "display_data"
    },
    {
     "data": {
      "application/vnd.jupyter.widget-view+json": {
       "model_id": "ad32f8a5d9164cd6b40bfc63926ca73c",
       "version_major": 2,
       "version_minor": 0
      },
      "text/plain": [
       "  0%|          | 0/625 [00:00<?, ?it/s]"
      ]
     },
     "metadata": {},
     "output_type": "display_data"
    },
    {
     "data": {
      "application/vnd.jupyter.widget-view+json": {
       "model_id": "2bea06cf31884deb8bf5a95994ab52a9",
       "version_major": 2,
       "version_minor": 0
      },
      "text/plain": [
       "  0%|          | 0/3750 [00:00<?, ?it/s]"
      ]
     },
     "metadata": {},
     "output_type": "display_data"
    },
    {
     "data": {
      "application/vnd.jupyter.widget-view+json": {
       "model_id": "ef118372fdaf4c369112b33d91fd9882",
       "version_major": 2,
       "version_minor": 0
      },
      "text/plain": [
       "  0%|          | 0/625 [00:00<?, ?it/s]"
      ]
     },
     "metadata": {},
     "output_type": "display_data"
    },
    {
     "data": {
      "application/vnd.jupyter.widget-view+json": {
       "model_id": "a8d47cf53748404197fb538792d50af9",
       "version_major": 2,
       "version_minor": 0
      },
      "text/plain": [
       "  0%|          | 0/3750 [00:00<?, ?it/s]"
      ]
     },
     "metadata": {},
     "output_type": "display_data"
    },
    {
     "data": {
      "application/vnd.jupyter.widget-view+json": {
       "model_id": "db8d7933ffcf40d9b984b29786843f39",
       "version_major": 2,
       "version_minor": 0
      },
      "text/plain": [
       "  0%|          | 0/625 [00:00<?, ?it/s]"
      ]
     },
     "metadata": {},
     "output_type": "display_data"
    },
    {
     "data": {
      "application/vnd.jupyter.widget-view+json": {
       "model_id": "2675bbe092904dc49827a9a8aea37901",
       "version_major": 2,
       "version_minor": 0
      },
      "text/plain": [
       "  0%|          | 0/3750 [00:00<?, ?it/s]"
      ]
     },
     "metadata": {},
     "output_type": "display_data"
    },
    {
     "data": {
      "application/vnd.jupyter.widget-view+json": {
       "model_id": "94ddd65fc2b843f98b0f1032bfe3c00a",
       "version_major": 2,
       "version_minor": 0
      },
      "text/plain": [
       "  0%|          | 0/625 [00:00<?, ?it/s]"
      ]
     },
     "metadata": {},
     "output_type": "display_data"
    },
    {
     "data": {
      "application/vnd.jupyter.widget-view+json": {
       "model_id": "1686a90b084e4bb595f63b72fac904c6",
       "version_major": 2,
       "version_minor": 0
      },
      "text/plain": [
       "  0%|          | 0/3750 [00:00<?, ?it/s]"
      ]
     },
     "metadata": {},
     "output_type": "display_data"
    },
    {
     "data": {
      "application/vnd.jupyter.widget-view+json": {
       "model_id": "ba8b2e9f3ce9461fac16fe0e4b61157a",
       "version_major": 2,
       "version_minor": 0
      },
      "text/plain": [
       "  0%|          | 0/625 [00:00<?, ?it/s]"
      ]
     },
     "metadata": {},
     "output_type": "display_data"
    },
    {
     "data": {
      "application/vnd.jupyter.widget-view+json": {
       "model_id": "8e005d476a20468faacb2e64d31ac114",
       "version_major": 2,
       "version_minor": 0
      },
      "text/plain": [
       "  0%|          | 0/3750 [00:00<?, ?it/s]"
      ]
     },
     "metadata": {},
     "output_type": "display_data"
    },
    {
     "data": {
      "application/vnd.jupyter.widget-view+json": {
       "model_id": "0a94ead4ceb142629caa112f8867030a",
       "version_major": 2,
       "version_minor": 0
      },
      "text/plain": [
       "  0%|          | 0/625 [00:00<?, ?it/s]"
      ]
     },
     "metadata": {},
     "output_type": "display_data"
    },
    {
     "data": {
      "application/vnd.jupyter.widget-view+json": {
       "model_id": "1b2e7c9e1d6f43adb1be31c8cac03dc8",
       "version_major": 2,
       "version_minor": 0
      },
      "text/plain": [
       "  0%|          | 0/3750 [00:00<?, ?it/s]"
      ]
     },
     "metadata": {},
     "output_type": "display_data"
    },
    {
     "data": {
      "application/vnd.jupyter.widget-view+json": {
       "model_id": "825be67af06a4eac8550fe1db8588b4f",
       "version_major": 2,
       "version_minor": 0
      },
      "text/plain": [
       "  0%|          | 0/625 [00:00<?, ?it/s]"
      ]
     },
     "metadata": {},
     "output_type": "display_data"
    },
    {
     "data": {
      "application/vnd.jupyter.widget-view+json": {
       "model_id": "55d93c71e91b4254841290bacff038fd",
       "version_major": 2,
       "version_minor": 0
      },
      "text/plain": [
       "  0%|          | 0/3750 [00:00<?, ?it/s]"
      ]
     },
     "metadata": {},
     "output_type": "display_data"
    },
    {
     "data": {
      "application/vnd.jupyter.widget-view+json": {
       "model_id": "29b7e1aa92fb41d5902165a2362f6679",
       "version_major": 2,
       "version_minor": 0
      },
      "text/plain": [
       "  0%|          | 0/625 [00:00<?, ?it/s]"
      ]
     },
     "metadata": {},
     "output_type": "display_data"
    },
    {
     "data": {
      "application/vnd.jupyter.widget-view+json": {
       "model_id": "a6f38f39f24a484f805a00fbc6fff841",
       "version_major": 2,
       "version_minor": 0
      },
      "text/plain": [
       "  0%|          | 0/3750 [00:00<?, ?it/s]"
      ]
     },
     "metadata": {},
     "output_type": "display_data"
    },
    {
     "data": {
      "application/vnd.jupyter.widget-view+json": {
       "model_id": "d3c2b74721a64a9199f991525c067166",
       "version_major": 2,
       "version_minor": 0
      },
      "text/plain": [
       "  0%|          | 0/625 [00:00<?, ?it/s]"
      ]
     },
     "metadata": {},
     "output_type": "display_data"
    }
   ],
   "source": [
    "network = NeuralNetwork()\n",
    "optimizer = optim.Adam(network.parameters(), lr=0.01)\n",
    "\n",
    "running_loss = 0.0\n",
    "last_loss = 0.0\n",
    "\n",
    "train_losses = []\n",
    "train_accuracies = []\n",
    "val_losses = []\n",
    "val_accuracies = []\n",
    "\n",
    "for epoch in range(10):\n",
    "    pbar = tqdm(train)\n",
    "    pbar.set_description(f'epoch={epoch + 1} train')\n",
    "    epoch_loss_total = 0.0\n",
    "    epoch_acc_total = 0.0\n",
    "    network.train()\n",
    "    for i, (X, Y) in enumerate(pbar):\n",
    "        optimizer.zero_grad()\n",
    "        y_hat = network(X)\n",
    "        loss = F.nll_loss(y_hat, Y)\n",
    "        loss.backward()\n",
    "        optimizer.step()\n",
    "        epoch_loss_total += loss\n",
    "        epoch_acc_total += torch.sum(Y == torch.argmax(torch.exp(y_hat), axis=1))\n",
    "        avg_loss = epoch_loss_total / i\n",
    "        avg_acc = epoch_acc_total / (i * Y.shape[0])\n",
    "        pbar.set_postfix(loss=float(avg_loss), acc=float(avg_acc))\n",
    "\n",
    "    train_losses.append(avg_loss)\n",
    "\n",
    "    pbar = tqdm(test)\n",
    "    pbar.set_description(f'epoch={epoch + 1} val ')\n",
    "    network.eval()\n",
    "    val_total = 0.0\n",
    "    val_acc = 0.0\n",
    "    for i, (X, Y) in enumerate(pbar):\n",
    "        y_hat = network(X)\n",
    "        loss = F.nll_loss(y_hat, Y)\n",
    "        val_total += loss\n",
    "        val_acc += torch.sum(Y == torch.argmax(torch.exp(y_hat), axis=1))\n",
    "        avg_loss = val_total / i\n",
    "        avg_acc = val_acc / (i * Y.shape[0])\n",
    "        pbar.set_postfix(loss=float(avg_loss), acc=float(avg_acc))\n",
    "\n",
    "    val_losses.append(avg_loss)"
   ]
  },
  {
   "cell_type": "code",
   "execution_count": 74,
   "id": "d5d2224e-aec6-4a8d-a72e-fd0b95c8b287",
   "metadata": {},
   "outputs": [
    {
     "data": {
      "text/plain": [
       "tensor([[-2.3642e+02,  0.0000e+00, -5.5535e+01, -5.3223e+01, -5.7003e+01,\n",
       "         -7.9331e+01, -3.4855e+01, -5.4641e+01, -6.6764e+01, -7.5892e+01],\n",
       "        [-9.9315e+00, -4.0669e+00, -1.3913e-01, -2.4057e+00, -7.1049e+00,\n",
       "         -6.4953e+00, -7.0447e+00, -3.9644e+00, -8.3415e+00, -9.3419e+00],\n",
       "        [-4.2711e+00, -2.8345e+00, -1.2978e+00, -1.8369e+00, -3.8792e+00,\n",
       "         -2.2688e+00, -2.8456e+00, -3.2589e+00, -1.3358e+00, -4.4877e+00],\n",
       "        [-1.3521e+02, -1.0669e+02, -8.0166e+01, -1.3423e+02,  0.0000e+00,\n",
       "         -9.2954e+01, -6.9877e+01, -5.7933e+01, -1.2565e+02, -7.6536e+01],\n",
       "        [-1.7339e+02, -2.0198e+02, -4.3649e+02, -7.0557e+01, -1.4550e+02,\n",
       "          0.0000e+00, -6.3063e+01, -1.3204e+02, -1.1177e+02, -1.1232e+02],\n",
       "        [-4.5382e+01, -1.1002e+02, -3.9464e+01, -9.4742e+01, -4.7955e+01,\n",
       "         -5.9532e+01,  0.0000e+00, -5.4126e+01, -9.4826e+01, -1.0188e+02],\n",
       "        [-6.1609e+01, -3.9283e+01, -2.7652e+01, -3.2560e+01, -3.2537e+01,\n",
       "         -4.3896e+01, -7.2576e+01,  0.0000e+00, -9.7712e+01, -3.3252e+01],\n",
       "        [-7.8867e+00, -4.1841e+00, -3.6092e+00, -5.5894e+00, -3.7920e+00,\n",
       "         -2.5633e+00, -3.5322e+00, -4.2194e+00, -2.1742e-01, -5.2141e+00],\n",
       "        [-9.4008e+00, -6.5401e+00, -5.9429e+00, -5.1532e+00, -1.7222e+00,\n",
       "         -5.3251e+00, -1.2088e+01, -2.6857e+00, -6.5054e+00, -3.0537e-01],\n",
       "        [-4.4612e-01, -8.6010e+00, -4.4936e+00, -3.3961e+00, -2.6821e+00,\n",
       "         -3.1699e+00, -1.7080e+00, -4.9766e+00, -4.7939e+00, -4.8046e+00],\n",
       "        [-3.5234e+02,  0.0000e+00, -1.0573e+02, -9.1403e+01, -1.0103e+02,\n",
       "         -1.4393e+02, -6.4761e+01, -8.8321e+01, -1.1557e+02, -1.2929e+02],\n",
       "        [-5.8433e+01, -2.1453e+01, -9.5367e-07, -1.3919e+01, -3.8763e+01,\n",
       "         -4.9982e+01, -5.0919e+01, -1.7041e+01, -7.7108e+01, -5.0872e+01],\n",
       "        [-2.2440e+02, -9.5336e+01, -5.9972e+01,  0.0000e+00, -1.4091e+02,\n",
       "         -6.2556e+01, -1.3499e+02, -6.8671e+01, -1.2305e+02, -8.8142e+01],\n",
       "        [-2.1336e+01, -1.7674e+01, -1.3173e+01, -1.7808e+01, -4.5599e-04,\n",
       "         -1.7709e+01, -1.2763e+01, -7.9624e+00, -1.7941e+01, -9.1836e+00],\n",
       "        [-1.7665e+02, -2.0808e+02, -4.6154e+02, -7.8017e+01, -1.7039e+02,\n",
       "          0.0000e+00, -7.1808e+01, -1.4245e+02, -1.3014e+02, -1.2733e+02],\n",
       "        [-4.1727e+01, -9.3952e+01, -3.8161e+01, -8.4011e+01, -4.2778e+01,\n",
       "         -5.1577e+01,  0.0000e+00, -4.9635e+01, -8.0219e+01, -9.4157e+01]],\n",
       "       grad_fn=<LogSoftmaxBackward0>)"
      ]
     },
     "execution_count": 74,
     "metadata": {},
     "output_type": "execute_result"
    }
   ],
   "source": [
    "y_hat"
   ]
  },
  {
   "cell_type": "code",
   "execution_count": 75,
   "id": "b4eb1015-7c9f-4526-adf7-4a7959e0e77a",
   "metadata": {},
   "outputs": [
    {
     "data": {
      "text/plain": [
       "tensor([1, 2, 3, 4, 5, 6, 7, 8, 9, 0, 1, 2, 3, 4, 5, 6])"
      ]
     },
     "execution_count": 75,
     "metadata": {},
     "output_type": "execute_result"
    }
   ],
   "source": [
    "Y"
   ]
  },
  {
   "cell_type": "code",
   "execution_count": 76,
   "id": "4cdd9eb1-8c22-4f22-b765-46258c824860",
   "metadata": {},
   "outputs": [
    {
     "data": {
      "text/plain": [
       "tensor(0.1841, grad_fn=<NllLossBackward0>)"
      ]
     },
     "execution_count": 76,
     "metadata": {},
     "output_type": "execute_result"
    }
   ],
   "source": [
    "F.nll_loss(y_hat, Y)"
   ]
  },
  {
   "cell_type": "code",
   "execution_count": null,
   "id": "3a8ca5c7-cc2b-4dbc-bb0d-8ef9c568071b",
   "metadata": {},
   "outputs": [],
   "source": []
  }
 ],
 "metadata": {
  "kernelspec": {
   "display_name": "Python 3 (ipykernel)",
   "language": "python",
   "name": "python3"
  },
  "language_info": {
   "codemirror_mode": {
    "name": "ipython",
    "version": 3
   },
   "file_extension": ".py",
   "mimetype": "text/x-python",
   "name": "python",
   "nbconvert_exporter": "python",
   "pygments_lexer": "ipython3",
   "version": "3.11.6"
  }
 },
 "nbformat": 4,
 "nbformat_minor": 5
}
